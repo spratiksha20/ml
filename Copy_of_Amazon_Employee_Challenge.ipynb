{
  "nbformat": 4,
  "nbformat_minor": 0,
  "metadata": {
    "colab": {
      "name": "Copy of ICG task",
      "provenance": [],
      "collapsed_sections": [],
      "authorship_tag": "ABX9TyPzNPgNbe32DWMTdzASTwT2",
      "include_colab_link": true
    },
    "kernelspec": {
      "name": "python3",
      "display_name": "Python 3"
    },
    "language_info": {
      "name": "python"
    }
  },
  "cells": [
    {
      "cell_type": "markdown",
      "metadata": {
        "id": "view-in-github",
        "colab_type": "text"
      },
      "source": [
        "<a href=\"https://colab.research.google.com/github/nikitas25644/Machine-Learning/blob/main/Copy_of_ICG_task.ipynb\" target=\"_parent\"><img src=\"https://colab.research.google.com/assets/colab-badge.svg\" alt=\"Open In Colab\"/></a>"
      ]
    },
    {
      "cell_type": "code",
      "metadata": {
        "id": "WpRgPtaAXfIL"
      },
      "source": [
        "import pandas as pd\n",
        "import matplotlib.pyplot as plt\n",
        "from numpy import where\n",
        "from collections import Counter"
      ],
      "execution_count": null,
      "outputs": []
    },
    {
      "cell_type": "code",
      "metadata": {
        "colab": {
          "base_uri": "https://localhost:8080/",
          "height": 204
        },
        "id": "XSimulfTYAC4",
        "outputId": "6485d3a6-5937-4034-99b7-bf8fbadf8066"
      },
      "source": [
        "url1='train.csv'\n",
        "train = pd.read_csv(url1)\n",
        "train.head()"
      ],
      "execution_count": null,
      "outputs": [
        {
          "output_type": "execute_result",
          "data": {
            "text/html": [
              "<div>\n",
              "<style scoped>\n",
              "    .dataframe tbody tr th:only-of-type {\n",
              "        vertical-align: middle;\n",
              "    }\n",
              "\n",
              "    .dataframe tbody tr th {\n",
              "        vertical-align: top;\n",
              "    }\n",
              "\n",
              "    .dataframe thead th {\n",
              "        text-align: right;\n",
              "    }\n",
              "</style>\n",
              "<table border=\"1\" class=\"dataframe\">\n",
              "  <thead>\n",
              "    <tr style=\"text-align: right;\">\n",
              "      <th></th>\n",
              "      <th>ACTION</th>\n",
              "      <th>RESOURCE</th>\n",
              "      <th>MGR_ID</th>\n",
              "      <th>ROLE_ROLLUP_1</th>\n",
              "      <th>ROLE_ROLLUP_2</th>\n",
              "      <th>ROLE_DEPTNAME</th>\n",
              "      <th>ROLE_TITLE</th>\n",
              "      <th>ROLE_FAMILY_DESC</th>\n",
              "      <th>ROLE_FAMILY</th>\n",
              "      <th>ROLE_CODE</th>\n",
              "    </tr>\n",
              "  </thead>\n",
              "  <tbody>\n",
              "    <tr>\n",
              "      <th>0</th>\n",
              "      <td>1</td>\n",
              "      <td>39353</td>\n",
              "      <td>85475</td>\n",
              "      <td>117961</td>\n",
              "      <td>118300</td>\n",
              "      <td>123472</td>\n",
              "      <td>117905</td>\n",
              "      <td>117906</td>\n",
              "      <td>290919</td>\n",
              "      <td>117908</td>\n",
              "    </tr>\n",
              "    <tr>\n",
              "      <th>1</th>\n",
              "      <td>1</td>\n",
              "      <td>17183</td>\n",
              "      <td>1540</td>\n",
              "      <td>117961</td>\n",
              "      <td>118343</td>\n",
              "      <td>123125</td>\n",
              "      <td>118536</td>\n",
              "      <td>118536</td>\n",
              "      <td>308574</td>\n",
              "      <td>118539</td>\n",
              "    </tr>\n",
              "    <tr>\n",
              "      <th>2</th>\n",
              "      <td>1</td>\n",
              "      <td>36724</td>\n",
              "      <td>14457</td>\n",
              "      <td>118219</td>\n",
              "      <td>118220</td>\n",
              "      <td>117884</td>\n",
              "      <td>117879</td>\n",
              "      <td>267952</td>\n",
              "      <td>19721</td>\n",
              "      <td>117880</td>\n",
              "    </tr>\n",
              "    <tr>\n",
              "      <th>3</th>\n",
              "      <td>1</td>\n",
              "      <td>36135</td>\n",
              "      <td>5396</td>\n",
              "      <td>117961</td>\n",
              "      <td>118343</td>\n",
              "      <td>119993</td>\n",
              "      <td>118321</td>\n",
              "      <td>240983</td>\n",
              "      <td>290919</td>\n",
              "      <td>118322</td>\n",
              "    </tr>\n",
              "    <tr>\n",
              "      <th>4</th>\n",
              "      <td>1</td>\n",
              "      <td>42680</td>\n",
              "      <td>5905</td>\n",
              "      <td>117929</td>\n",
              "      <td>117930</td>\n",
              "      <td>119569</td>\n",
              "      <td>119323</td>\n",
              "      <td>123932</td>\n",
              "      <td>19793</td>\n",
              "      <td>119325</td>\n",
              "    </tr>\n",
              "  </tbody>\n",
              "</table>\n",
              "</div>"
            ],
            "text/plain": [
              "   ACTION  RESOURCE  MGR_ID  ...  ROLE_FAMILY_DESC  ROLE_FAMILY  ROLE_CODE\n",
              "0       1     39353   85475  ...            117906       290919     117908\n",
              "1       1     17183    1540  ...            118536       308574     118539\n",
              "2       1     36724   14457  ...            267952        19721     117880\n",
              "3       1     36135    5396  ...            240983       290919     118322\n",
              "4       1     42680    5905  ...            123932        19793     119325\n",
              "\n",
              "[5 rows x 10 columns]"
            ]
          },
          "metadata": {},
          "execution_count": 4
        }
      ]
    },
    {
      "cell_type": "code",
      "metadata": {
        "colab": {
          "base_uri": "https://localhost:8080/",
          "height": 204
        },
        "id": "a9SpGrRXYGIF",
        "outputId": "6e25d884-d815-4ee4-9cef-85faa04de1aa"
      },
      "source": [
        "url2='test.csv'\n",
        "test=pd.read_csv(url2)\n",
        "test.head()"
      ],
      "execution_count": null,
      "outputs": [
        {
          "output_type": "execute_result",
          "data": {
            "text/html": [
              "<div>\n",
              "<style scoped>\n",
              "    .dataframe tbody tr th:only-of-type {\n",
              "        vertical-align: middle;\n",
              "    }\n",
              "\n",
              "    .dataframe tbody tr th {\n",
              "        vertical-align: top;\n",
              "    }\n",
              "\n",
              "    .dataframe thead th {\n",
              "        text-align: right;\n",
              "    }\n",
              "</style>\n",
              "<table border=\"1\" class=\"dataframe\">\n",
              "  <thead>\n",
              "    <tr style=\"text-align: right;\">\n",
              "      <th></th>\n",
              "      <th>id</th>\n",
              "      <th>RESOURCE</th>\n",
              "      <th>MGR_ID</th>\n",
              "      <th>ROLE_ROLLUP_1</th>\n",
              "      <th>ROLE_ROLLUP_2</th>\n",
              "      <th>ROLE_DEPTNAME</th>\n",
              "      <th>ROLE_TITLE</th>\n",
              "      <th>ROLE_FAMILY_DESC</th>\n",
              "      <th>ROLE_FAMILY</th>\n",
              "      <th>ROLE_CODE</th>\n",
              "    </tr>\n",
              "  </thead>\n",
              "  <tbody>\n",
              "    <tr>\n",
              "      <th>0</th>\n",
              "      <td>1</td>\n",
              "      <td>78766</td>\n",
              "      <td>72734</td>\n",
              "      <td>118079</td>\n",
              "      <td>118080</td>\n",
              "      <td>117878</td>\n",
              "      <td>117879</td>\n",
              "      <td>118177</td>\n",
              "      <td>19721</td>\n",
              "      <td>117880</td>\n",
              "    </tr>\n",
              "    <tr>\n",
              "      <th>1</th>\n",
              "      <td>2</td>\n",
              "      <td>40644</td>\n",
              "      <td>4378</td>\n",
              "      <td>117961</td>\n",
              "      <td>118327</td>\n",
              "      <td>118507</td>\n",
              "      <td>118863</td>\n",
              "      <td>122008</td>\n",
              "      <td>118398</td>\n",
              "      <td>118865</td>\n",
              "    </tr>\n",
              "    <tr>\n",
              "      <th>2</th>\n",
              "      <td>3</td>\n",
              "      <td>75443</td>\n",
              "      <td>2395</td>\n",
              "      <td>117961</td>\n",
              "      <td>118300</td>\n",
              "      <td>119488</td>\n",
              "      <td>118172</td>\n",
              "      <td>301534</td>\n",
              "      <td>249618</td>\n",
              "      <td>118175</td>\n",
              "    </tr>\n",
              "    <tr>\n",
              "      <th>3</th>\n",
              "      <td>4</td>\n",
              "      <td>43219</td>\n",
              "      <td>19986</td>\n",
              "      <td>117961</td>\n",
              "      <td>118225</td>\n",
              "      <td>118403</td>\n",
              "      <td>120773</td>\n",
              "      <td>136187</td>\n",
              "      <td>118960</td>\n",
              "      <td>120774</td>\n",
              "    </tr>\n",
              "    <tr>\n",
              "      <th>4</th>\n",
              "      <td>5</td>\n",
              "      <td>42093</td>\n",
              "      <td>50015</td>\n",
              "      <td>117961</td>\n",
              "      <td>118343</td>\n",
              "      <td>119598</td>\n",
              "      <td>118422</td>\n",
              "      <td>300136</td>\n",
              "      <td>118424</td>\n",
              "      <td>118425</td>\n",
              "    </tr>\n",
              "  </tbody>\n",
              "</table>\n",
              "</div>"
            ],
            "text/plain": [
              "   id  RESOURCE  MGR_ID  ...  ROLE_FAMILY_DESC  ROLE_FAMILY  ROLE_CODE\n",
              "0   1     78766   72734  ...            118177        19721     117880\n",
              "1   2     40644    4378  ...            122008       118398     118865\n",
              "2   3     75443    2395  ...            301534       249618     118175\n",
              "3   4     43219   19986  ...            136187       118960     120774\n",
              "4   5     42093   50015  ...            300136       118424     118425\n",
              "\n",
              "[5 rows x 10 columns]"
            ]
          },
          "metadata": {},
          "execution_count": 5
        }
      ]
    },
    {
      "cell_type": "code",
      "metadata": {
        "id": "5Q3GU_Uj91am"
      },
      "source": [
        ""
      ],
      "execution_count": null,
      "outputs": []
    },
    {
      "cell_type": "markdown",
      "metadata": {
        "id": "ylzrErC4D6F_"
      },
      "source": [
        "Extracting out the id column from test data and later using it for prediction of datasets"
      ]
    },
    {
      "cell_type": "code",
      "metadata": {
        "colab": {
          "base_uri": "https://localhost:8080/"
        },
        "id": "A0SlUL-UIQnp",
        "outputId": "a3bdd145-188d-4c5d-d9c0-2d1ae65067bb"
      },
      "source": [
        "id=test.iloc[:,0].values\n",
        "id"
      ],
      "execution_count": null,
      "outputs": [
        {
          "output_type": "execute_result",
          "data": {
            "text/plain": [
              "array([    1,     2,     3, ..., 58919, 58920, 58921])"
            ]
          },
          "metadata": {},
          "execution_count": 43
        }
      ]
    },
    {
      "cell_type": "code",
      "metadata": {
        "colab": {
          "base_uri": "https://localhost:8080/",
          "height": 418
        },
        "id": "sbbKKgfuQz71",
        "outputId": "23f20ed6-ceab-41f8-978e-b9f1f3e8f754"
      },
      "source": [
        "test"
      ],
      "execution_count": null,
      "outputs": [
        {
          "output_type": "execute_result",
          "data": {
            "text/html": [
              "<div>\n",
              "<style scoped>\n",
              "    .dataframe tbody tr th:only-of-type {\n",
              "        vertical-align: middle;\n",
              "    }\n",
              "\n",
              "    .dataframe tbody tr th {\n",
              "        vertical-align: top;\n",
              "    }\n",
              "\n",
              "    .dataframe thead th {\n",
              "        text-align: right;\n",
              "    }\n",
              "</style>\n",
              "<table border=\"1\" class=\"dataframe\">\n",
              "  <thead>\n",
              "    <tr style=\"text-align: right;\">\n",
              "      <th></th>\n",
              "      <th>id</th>\n",
              "      <th>RESOURCE</th>\n",
              "      <th>MGR_ID</th>\n",
              "      <th>ROLE_ROLLUP_1</th>\n",
              "      <th>ROLE_ROLLUP_2</th>\n",
              "      <th>ROLE_DEPTNAME</th>\n",
              "      <th>ROLE_TITLE</th>\n",
              "      <th>ROLE_FAMILY_DESC</th>\n",
              "      <th>ROLE_FAMILY</th>\n",
              "      <th>ROLE_CODE</th>\n",
              "    </tr>\n",
              "  </thead>\n",
              "  <tbody>\n",
              "    <tr>\n",
              "      <th>0</th>\n",
              "      <td>1</td>\n",
              "      <td>78766</td>\n",
              "      <td>72734</td>\n",
              "      <td>118079</td>\n",
              "      <td>118080</td>\n",
              "      <td>117878</td>\n",
              "      <td>117879</td>\n",
              "      <td>118177</td>\n",
              "      <td>19721</td>\n",
              "      <td>117880</td>\n",
              "    </tr>\n",
              "    <tr>\n",
              "      <th>1</th>\n",
              "      <td>2</td>\n",
              "      <td>40644</td>\n",
              "      <td>4378</td>\n",
              "      <td>117961</td>\n",
              "      <td>118327</td>\n",
              "      <td>118507</td>\n",
              "      <td>118863</td>\n",
              "      <td>122008</td>\n",
              "      <td>118398</td>\n",
              "      <td>118865</td>\n",
              "    </tr>\n",
              "    <tr>\n",
              "      <th>2</th>\n",
              "      <td>3</td>\n",
              "      <td>75443</td>\n",
              "      <td>2395</td>\n",
              "      <td>117961</td>\n",
              "      <td>118300</td>\n",
              "      <td>119488</td>\n",
              "      <td>118172</td>\n",
              "      <td>301534</td>\n",
              "      <td>249618</td>\n",
              "      <td>118175</td>\n",
              "    </tr>\n",
              "    <tr>\n",
              "      <th>3</th>\n",
              "      <td>4</td>\n",
              "      <td>43219</td>\n",
              "      <td>19986</td>\n",
              "      <td>117961</td>\n",
              "      <td>118225</td>\n",
              "      <td>118403</td>\n",
              "      <td>120773</td>\n",
              "      <td>136187</td>\n",
              "      <td>118960</td>\n",
              "      <td>120774</td>\n",
              "    </tr>\n",
              "    <tr>\n",
              "      <th>4</th>\n",
              "      <td>5</td>\n",
              "      <td>42093</td>\n",
              "      <td>50015</td>\n",
              "      <td>117961</td>\n",
              "      <td>118343</td>\n",
              "      <td>119598</td>\n",
              "      <td>118422</td>\n",
              "      <td>300136</td>\n",
              "      <td>118424</td>\n",
              "      <td>118425</td>\n",
              "    </tr>\n",
              "    <tr>\n",
              "      <th>...</th>\n",
              "      <td>...</td>\n",
              "      <td>...</td>\n",
              "      <td>...</td>\n",
              "      <td>...</td>\n",
              "      <td>...</td>\n",
              "      <td>...</td>\n",
              "      <td>...</td>\n",
              "      <td>...</td>\n",
              "      <td>...</td>\n",
              "      <td>...</td>\n",
              "    </tr>\n",
              "    <tr>\n",
              "      <th>58916</th>\n",
              "      <td>58917</td>\n",
              "      <td>75078</td>\n",
              "      <td>4565</td>\n",
              "      <td>117961</td>\n",
              "      <td>118386</td>\n",
              "      <td>121961</td>\n",
              "      <td>118784</td>\n",
              "      <td>117906</td>\n",
              "      <td>290919</td>\n",
              "      <td>118786</td>\n",
              "    </tr>\n",
              "    <tr>\n",
              "      <th>58917</th>\n",
              "      <td>58918</td>\n",
              "      <td>6977</td>\n",
              "      <td>72209</td>\n",
              "      <td>117961</td>\n",
              "      <td>118225</td>\n",
              "      <td>124948</td>\n",
              "      <td>118054</td>\n",
              "      <td>118054</td>\n",
              "      <td>117887</td>\n",
              "      <td>118055</td>\n",
              "    </tr>\n",
              "    <tr>\n",
              "      <th>58918</th>\n",
              "      <td>58919</td>\n",
              "      <td>39262</td>\n",
              "      <td>6114</td>\n",
              "      <td>117961</td>\n",
              "      <td>118343</td>\n",
              "      <td>6104</td>\n",
              "      <td>118278</td>\n",
              "      <td>118260</td>\n",
              "      <td>290919</td>\n",
              "      <td>118279</td>\n",
              "    </tr>\n",
              "    <tr>\n",
              "      <th>58919</th>\n",
              "      <td>58920</td>\n",
              "      <td>1023</td>\n",
              "      <td>8674</td>\n",
              "      <td>117961</td>\n",
              "      <td>118327</td>\n",
              "      <td>120318</td>\n",
              "      <td>118321</td>\n",
              "      <td>117906</td>\n",
              "      <td>290919</td>\n",
              "      <td>118322</td>\n",
              "    </tr>\n",
              "    <tr>\n",
              "      <th>58920</th>\n",
              "      <td>58921</td>\n",
              "      <td>44977</td>\n",
              "      <td>3918</td>\n",
              "      <td>117961</td>\n",
              "      <td>118343</td>\n",
              "      <td>118660</td>\n",
              "      <td>119433</td>\n",
              "      <td>133686</td>\n",
              "      <td>118424</td>\n",
              "      <td>119435</td>\n",
              "    </tr>\n",
              "  </tbody>\n",
              "</table>\n",
              "<p>58921 rows × 10 columns</p>\n",
              "</div>"
            ],
            "text/plain": [
              "          id  RESOURCE  MGR_ID  ...  ROLE_FAMILY_DESC  ROLE_FAMILY  ROLE_CODE\n",
              "0          1     78766   72734  ...            118177        19721     117880\n",
              "1          2     40644    4378  ...            122008       118398     118865\n",
              "2          3     75443    2395  ...            301534       249618     118175\n",
              "3          4     43219   19986  ...            136187       118960     120774\n",
              "4          5     42093   50015  ...            300136       118424     118425\n",
              "...      ...       ...     ...  ...               ...          ...        ...\n",
              "58916  58917     75078    4565  ...            117906       290919     118786\n",
              "58917  58918      6977   72209  ...            118054       117887     118055\n",
              "58918  58919     39262    6114  ...            118260       290919     118279\n",
              "58919  58920      1023    8674  ...            117906       290919     118322\n",
              "58920  58921     44977    3918  ...            133686       118424     119435\n",
              "\n",
              "[58921 rows x 10 columns]"
            ]
          },
          "metadata": {},
          "execution_count": 7
        }
      ]
    },
    {
      "cell_type": "code",
      "metadata": {
        "colab": {
          "base_uri": "https://localhost:8080/"
        },
        "id": "VhWUsST_RcKB",
        "outputId": "980ad369-c69e-47b3-c9e8-d3a4465f1190"
      },
      "source": [
        "x = train.iloc[:, 1:11].values\n",
        "y = train.iloc[:, 0].values      #breaking training datas into Action and other characteristics of employees and storing them into variables\n",
        "Test=test.drop('id',axis=1)       \n",
        "x_Test=Test.iloc[:,:].values\n",
        "x_Test"
      ],
      "execution_count": null,
      "outputs": [
        {
          "output_type": "execute_result",
          "data": {
            "text/plain": [
              "array([[ 78766,  72734, 118079, ..., 118177,  19721, 117880],\n",
              "       [ 40644,   4378, 117961, ..., 122008, 118398, 118865],\n",
              "       [ 75443,   2395, 117961, ..., 301534, 249618, 118175],\n",
              "       ...,\n",
              "       [ 39262,   6114, 117961, ..., 118260, 290919, 118279],\n",
              "       [  1023,   8674, 117961, ..., 117906, 290919, 118322],\n",
              "       [ 44977,   3918, 117961, ..., 133686, 118424, 119435]])"
            ]
          },
          "metadata": {},
          "execution_count": 8
        }
      ]
    },
    {
      "cell_type": "code",
      "metadata": {
        "id": "2OgnNiJQSCNV"
      },
      "source": [
        "#splitting tarining and testing data\n",
        "from sklearn.model_selection import train_test_split\n",
        "x_train, x_test, y_train, y_test = train_test_split(x, y, train_size = 0.8, random_state = 0)"
      ],
      "execution_count": null,
      "outputs": []
    },
    {
      "cell_type": "code",
      "metadata": {
        "id": "OUVtPq5ja1RQ"
      },
      "source": [
        "\n",
        "from sklearn.tree import DecisionTreeClassifier\n",
        "classifier = DecisionTreeClassifier()\n",
        "classifier = classifier.fit(x_train,y_train)"
      ],
      "execution_count": null,
      "outputs": []
    },
    {
      "cell_type": "code",
      "metadata": {
        "colab": {
          "base_uri": "https://localhost:8080/"
        },
        "id": "LQOqO6mqtBnQ",
        "outputId": "bbc93e27-9a94-4d14-b06e-9d8c7965fbfa"
      },
      "source": [
        "\n",
        "X=test.iloc[:,1:]\n",
        "pred=classifier.predict(X)\n",
        "pred                              #predicting the test datas after extracting the id coloumn"
      ],
      "execution_count": null,
      "outputs": [
        {
          "output_type": "execute_result",
          "data": {
            "text/plain": [
              "array([1, 1, 1, ..., 1, 0, 1])"
            ]
          },
          "metadata": {},
          "execution_count": 40
        }
      ]
    },
    {
      "cell_type": "code",
      "metadata": {
        "colab": {
          "base_uri": "https://localhost:8080/"
        },
        "id": "VLXCcCpquAEs",
        "outputId": "15e5e763-7f28-4f3a-993e-b958b7de9d00"
      },
      "source": [
        "A=test['id'].values\n",
        "A"
      ],
      "execution_count": null,
      "outputs": [
        {
          "output_type": "execute_result",
          "data": {
            "text/plain": [
              "array([    1,     2,     3, ..., 58919, 58920, 58921])"
            ]
          },
          "metadata": {},
          "execution_count": 32
        }
      ]
    },
    {
      "cell_type": "code",
      "metadata": {
        "colab": {
          "base_uri": "https://localhost:8080/",
          "height": 418
        },
        "id": "LOpNwZN_y9mf",
        "outputId": "fb92cc18-d515-40cb-d73c-f934d5443399"
      },
      "source": [
        "final=pd.DataFrame(list(zip(A,pred)),columns=['ID','ACTION'])\n",
        "final"
      ],
      "execution_count": null,
      "outputs": [
        {
          "output_type": "execute_result",
          "data": {
            "text/html": [
              "<div>\n",
              "<style scoped>\n",
              "    .dataframe tbody tr th:only-of-type {\n",
              "        vertical-align: middle;\n",
              "    }\n",
              "\n",
              "    .dataframe tbody tr th {\n",
              "        vertical-align: top;\n",
              "    }\n",
              "\n",
              "    .dataframe thead th {\n",
              "        text-align: right;\n",
              "    }\n",
              "</style>\n",
              "<table border=\"1\" class=\"dataframe\">\n",
              "  <thead>\n",
              "    <tr style=\"text-align: right;\">\n",
              "      <th></th>\n",
              "      <th>ID</th>\n",
              "      <th>ACTION</th>\n",
              "    </tr>\n",
              "  </thead>\n",
              "  <tbody>\n",
              "    <tr>\n",
              "      <th>0</th>\n",
              "      <td>1</td>\n",
              "      <td>1</td>\n",
              "    </tr>\n",
              "    <tr>\n",
              "      <th>1</th>\n",
              "      <td>2</td>\n",
              "      <td>1</td>\n",
              "    </tr>\n",
              "    <tr>\n",
              "      <th>2</th>\n",
              "      <td>3</td>\n",
              "      <td>1</td>\n",
              "    </tr>\n",
              "    <tr>\n",
              "      <th>3</th>\n",
              "      <td>4</td>\n",
              "      <td>1</td>\n",
              "    </tr>\n",
              "    <tr>\n",
              "      <th>4</th>\n",
              "      <td>5</td>\n",
              "      <td>1</td>\n",
              "    </tr>\n",
              "    <tr>\n",
              "      <th>...</th>\n",
              "      <td>...</td>\n",
              "      <td>...</td>\n",
              "    </tr>\n",
              "    <tr>\n",
              "      <th>58916</th>\n",
              "      <td>58917</td>\n",
              "      <td>1</td>\n",
              "    </tr>\n",
              "    <tr>\n",
              "      <th>58917</th>\n",
              "      <td>58918</td>\n",
              "      <td>1</td>\n",
              "    </tr>\n",
              "    <tr>\n",
              "      <th>58918</th>\n",
              "      <td>58919</td>\n",
              "      <td>1</td>\n",
              "    </tr>\n",
              "    <tr>\n",
              "      <th>58919</th>\n",
              "      <td>58920</td>\n",
              "      <td>0</td>\n",
              "    </tr>\n",
              "    <tr>\n",
              "      <th>58920</th>\n",
              "      <td>58921</td>\n",
              "      <td>1</td>\n",
              "    </tr>\n",
              "  </tbody>\n",
              "</table>\n",
              "<p>58921 rows × 2 columns</p>\n",
              "</div>"
            ],
            "text/plain": [
              "          ID  ACTION\n",
              "0          1       1\n",
              "1          2       1\n",
              "2          3       1\n",
              "3          4       1\n",
              "4          5       1\n",
              "...      ...     ...\n",
              "58916  58917       1\n",
              "58917  58918       1\n",
              "58918  58919       1\n",
              "58919  58920       0\n",
              "58920  58921       1\n",
              "\n",
              "[58921 rows x 2 columns]"
            ]
          },
          "metadata": {},
          "execution_count": 41
        }
      ]
    },
    {
      "cell_type": "code",
      "metadata": {
        "id": "_4A91d8D2e4B"
      },
      "source": [
        "final.to_csv('submission.csv',index=False)"
      ],
      "execution_count": null,
      "outputs": []
    },
    {
      "cell_type": "markdown",
      "metadata": {
        "id": "J571swCnGuVV"
      },
      "source": [
        "ANALYSIS OF THE DATASETS BY PLOTTING THE FINAL RESULT:\n"
      ]
    },
    {
      "cell_type": "code",
      "metadata": {
        "id": "p0EZqeiq2nrg",
        "colab": {
          "base_uri": "https://localhost:8080/",
          "height": 500
        },
        "outputId": "9d9945f6-16bf-4275-fff8-7924a16fcf83"
      },
      "source": [
        "analysis=plt.subplots(1,1,figsize=(8,8))\n",
        "counter=Counter(y)\n",
        "print(counter)         #checking out the no. of zeros and ones in the final prediction datasets\n",
        "for label, _ in counter.items():\n",
        "\trow_ix = where(y == label)[0]              \n",
        "\tplt.scatter(x[row_ix, 0], x[row_ix, 1],label=str(label))\n",
        "plt.legend()\n",
        "plt.show()"
      ],
      "execution_count": null,
      "outputs": [
        {
          "output_type": "stream",
          "text": [
            "Counter({1: 30872, 0: 1897})\n"
          ],
          "name": "stdout"
        },
        {
          "output_type": "display_data",
          "data": {
            "image/png": "[encoded data removed]",
            "text/plain": [
              "<Figure size 576x576 with 1 Axes>"
            ]
          },
          "metadata": {
            "needs_background": "light"
          }
        }
      ]
    },
    {
      "cell_type": "code",
      "metadata": {
        "id": "dHVFIZjcF_iJ"
      },
      "source": [
        ""
      ],
      "execution_count": null,
      "outputs": []
    }
  ]
}