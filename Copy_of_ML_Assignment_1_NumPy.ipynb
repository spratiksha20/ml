{
  "cells": [
    {
      "cell_type": "code",
      "execution_count": 3,
      "id": "42f5e68e",
      "metadata": {
        "id": "42f5e68e"
      },
      "outputs": [],
      "source": [
        "import numpy as np"
      ]
    },
    {
      "cell_type": "markdown",
      "id": "2b209b50",
      "metadata": {
        "id": "2b209b50"
      },
      "source": [
        "Q1 Let x = np.arange(4, dtype=np.int64). Create an array of ones with the same shape and type as X."
      ]
    },
    {
      "cell_type": "code",
      "execution_count": 4,
      "id": "729dc9cd",
      "metadata": {
        "id": "729dc9cd",
        "outputId": "cbc22649-ea2b-48fe-e5f6-aa8c08a0844a",
        "colab": {
          "base_uri": "https://localhost:8080/"
        }
      },
      "outputs": [
        {
          "output_type": "execute_result",
          "data": {
            "text/plain": [
              "array([1, 1, 1, 1])"
            ]
          },
          "metadata": {},
          "execution_count": 4
        }
      ],
      "source": [
        "x = np.array([1,1,1,1], dtype=np.int64)\n",
        "x"
      ]
    },
    {
      "cell_type": "markdown",
      "id": "1b9ea803",
      "metadata": {
        "id": "1b9ea803"
      },
      "source": [
        "Q2 Let X = np.array([[1, 2], [3, 4]]). Convert it into a matrix."
      ]
    },
    {
      "cell_type": "code",
      "execution_count": 5,
      "id": "23e39b64",
      "metadata": {
        "id": "23e39b64",
        "colab": {
          "base_uri": "https://localhost:8080/"
        },
        "outputId": "6b792296-4346-44b2-c0d1-8f6ae6d4ab3c"
      },
      "outputs": [
        {
          "output_type": "execute_result",
          "data": {
            "text/plain": [
              "array([[1, 2],\n",
              "       [3, 4]])"
            ]
          },
          "metadata": {},
          "execution_count": 5
        }
      ],
      "source": [
        "X=np.array([[1,2],[3,4]])\n",
        "mat=np.reshape(X,(2,2))\n",
        "mat\n"
      ]
    },
    {
      "cell_type": "markdown",
      "id": "4c1fc004",
      "metadata": {
        "id": "4c1fc004"
      },
      "source": [
        "Q3 Create a 1-D array of 50 evenly spaced elements between 3. and 10., inclusive."
      ]
    },
    {
      "cell_type": "code",
      "execution_count": 6,
      "id": "9f0a47db",
      "metadata": {
        "id": "9f0a47db",
        "colab": {
          "base_uri": "https://localhost:8080/"
        },
        "outputId": "9f198422-8edd-420a-c649-731c14c54a75"
      },
      "outputs": [
        {
          "output_type": "execute_result",
          "data": {
            "text/plain": [
              "array([ 3.        ,  3.14285714,  3.28571429,  3.42857143,  3.57142857,\n",
              "        3.71428571,  3.85714286,  4.        ,  4.14285714,  4.28571429,\n",
              "        4.42857143,  4.57142857,  4.71428571,  4.85714286,  5.        ,\n",
              "        5.14285714,  5.28571429,  5.42857143,  5.57142857,  5.71428571,\n",
              "        5.85714286,  6.        ,  6.14285714,  6.28571429,  6.42857143,\n",
              "        6.57142857,  6.71428571,  6.85714286,  7.        ,  7.14285714,\n",
              "        7.28571429,  7.42857143,  7.57142857,  7.71428571,  7.85714286,\n",
              "        8.        ,  8.14285714,  8.28571429,  8.42857143,  8.57142857,\n",
              "        8.71428571,  8.85714286,  9.        ,  9.14285714,  9.28571429,\n",
              "        9.42857143,  9.57142857,  9.71428571,  9.85714286, 10.        ])"
            ]
          },
          "metadata": {},
          "execution_count": 6
        }
      ],
      "source": [
        "A=np.linspace(3,10,50)\n",
        "A"
      ]
    },
    {
      "cell_type": "markdown",
      "id": "0289d659",
      "metadata": {
        "id": "0289d659"
      },
      "source": [
        "Q4 Let x be array [[1, 2, 3], [4, 5, 6]]. Convert it to [1 4 2 5 3 6]."
      ]
    },
    {
      "cell_type": "code",
      "execution_count": 7,
      "id": "f8435bca",
      "metadata": {
        "id": "f8435bca",
        "colab": {
          "base_uri": "https://localhost:8080/"
        },
        "outputId": "6be6a125-a56a-4066-9aee-9d8038492cb4"
      },
      "outputs": [
        {
          "output_type": "execute_result",
          "data": {
            "text/plain": [
              "array([[1, 2, 3, 4, 5, 6]])"
            ]
          },
          "metadata": {},
          "execution_count": 7
        }
      ],
      "source": [
        "X=np.array([[1,2,3],[4,5,6]])\n",
        "y=np.reshape(X,(1,6))\n",
        "y\n",
        "\n"
      ]
    },
    {
      "cell_type": "markdown",
      "id": "71988acd",
      "metadata": {
        "id": "71988acd"
      },
      "source": [
        "Q5 Let x be an array [1, 2, 3, ..., 9]. Split x into 3 arrays, each of which has 4, 2, and 3 elements in the original order."
      ]
    },
    {
      "cell_type": "code",
      "execution_count": 8,
      "id": "9425a232",
      "metadata": {
        "id": "9425a232"
      },
      "outputs": [],
      "source": [
        "x=np.arange(1,10)\n",
        "\n"
      ]
    },
    {
      "cell_type": "markdown",
      "id": "6aecae8c",
      "metadata": {
        "id": "6aecae8c"
      },
      "source": [
        " Q6 Compute the inverse and primary diagnol sum of x=[[1,2],[3,4]]"
      ]
    },
    {
      "cell_type": "code",
      "execution_count": 9,
      "id": "3d79a142",
      "metadata": {
        "id": "3d79a142",
        "colab": {
          "base_uri": "https://localhost:8080/"
        },
        "outputId": "5716707c-b5a0-4a63-b193-5fc23f373e17"
      },
      "outputs": [
        {
          "output_type": "stream",
          "name": "stdout",
          "text": [
            "[[-2.   1. ]\n",
            " [ 1.5 -0.5]]\n"
          ]
        }
      ],
      "source": [
        "A=np.array([[1,2],[3,4]])\n",
        "print(np.linalg.inv(A))"
      ]
    },
    {
      "cell_type": "markdown",
      "id": "9f088694",
      "metadata": {
        "id": "9f088694"
      },
      "source": [
        "Q7 Sort x along the second axis. x = [[1,4],[3,1]]"
      ]
    },
    {
      "cell_type": "code",
      "execution_count": 10,
      "id": "40099735",
      "metadata": {
        "id": "40099735",
        "colab": {
          "base_uri": "https://localhost:8080/"
        },
        "outputId": "b69d1f62-a127-4f4a-c5d9-9ef29562e9f8"
      },
      "outputs": [
        {
          "output_type": "execute_result",
          "data": {
            "text/plain": [
              "array([[1, 4],\n",
              "       [1, 3]])"
            ]
          },
          "metadata": {},
          "execution_count": 10
        }
      ],
      "source": [
        "x=np.array([[1,4],[3,1]])\n",
        "x_sort=np.sort(x,axis=1)\n",
        "x_sort"
      ]
    },
    {
      "cell_type": "markdown",
      "id": "51cc1a71",
      "metadata": {
        "id": "51cc1a71"
      },
      "source": [
        "Q8 Get the indices that would sort x(as above) along the second axis."
      ]
    },
    {
      "cell_type": "code",
      "execution_count": 11,
      "id": "f314f2b6",
      "metadata": {
        "id": "f314f2b6",
        "colab": {
          "base_uri": "https://localhost:8080/"
        },
        "outputId": "f7f1e2ba-aeb3-4f02-d568-a8d2acfdb6e4"
      },
      "outputs": [
        {
          "output_type": "execute_result",
          "data": {
            "text/plain": [
              "array([[0, 1],\n",
              "       [1, 0]])"
            ]
          },
          "metadata": {},
          "execution_count": 11
        }
      ],
      "source": [
        "ind_sort=np.argsort(x,axis=1)\n",
        "ind_sort"
      ]
    },
    {
      "cell_type": "markdown",
      "id": "1cf5455c",
      "metadata": {
        "id": "1cf5455c"
      },
      "source": [
        "Initiate x as a 2x5 array with random values from 0 to 10(not inclusive).Get the maximum and minimum values and their indices of x along the second axis."
      ]
    },
    {
      "cell_type": "code",
      "execution_count": 12,
      "id": "4c9518c5",
      "metadata": {
        "id": "4c9518c5",
        "colab": {
          "base_uri": "https://localhost:8080/"
        },
        "outputId": "737a14f5-482e-4c73-9068-3924f41be41c"
      },
      "outputs": [
        {
          "output_type": "execute_result",
          "data": {
            "text/plain": [
              "array([[5, 8, 3, 7, 1],\n",
              "       [3, 5, 5, 3, 1]])"
            ]
          },
          "metadata": {},
          "execution_count": 12
        }
      ],
      "source": [
        "import random\n",
        "x=np.random.randint(1,10,(2,5))\n",
        "x"
      ]
    },
    {
      "cell_type": "code",
      "source": [
        "print(np.max(x))\n",
        "print(np.min(x))\n",
        "print(np.argsort(x,axis=1))"
      ],
      "metadata": {
        "colab": {
          "base_uri": "https://localhost:8080/"
        },
        "id": "TT-GvnLGBo6F",
        "outputId": "8aa768c2-4365-4595-e90b-9c99465efe7e"
      },
      "id": "TT-GvnLGBo6F",
      "execution_count": 13,
      "outputs": [
        {
          "output_type": "stream",
          "name": "stdout",
          "text": [
            "8\n",
            "1\n",
            "[[4 2 0 3 1]\n",
            " [4 0 3 1 2]]\n"
          ]
        }
      ]
    },
    {
      "cell_type": "markdown",
      "id": "d4c46002",
      "metadata": {
        "id": "d4c46002"
      },
      "source": [
        "Run the following load command to get the 2-Dim iris dataset. Do the following operations on it."
      ]
    },
    {
      "cell_type": "code",
      "execution_count": 14,
      "id": "6d70b524",
      "metadata": {
        "id": "6d70b524",
        "colab": {
          "base_uri": "https://localhost:8080/"
        },
        "outputId": "8c792902-e3e2-4d9f-df0b-517b305cc8aa"
      },
      "outputs": [
        {
          "output_type": "execute_result",
          "data": {
            "text/plain": [
              "array([[5.1, 3.5, 1.4, 0.2],\n",
              "       [4.9, 3. , 1.4, 0.2],\n",
              "       [4.7, 3.2, 1.3, 0.2],\n",
              "       [4.6, 3.1, 1.5, 0.2],\n",
              "       [5. , 3.6, 1.4, 0.2],\n",
              "       [5.4, 3.9, 1.7, 0.4],\n",
              "       [4.6, 3.4, 1.4, 0.3],\n",
              "       [5. , 3.4, 1.5, 0.2],\n",
              "       [4.4, 2.9, 1.4, 0.2],\n",
              "       [4.9, 3.1, 1.5, 0.1],\n",
              "       [5.4, 3.7, 1.5, 0.2],\n",
              "       [4.8, 3.4, 1.6, 0.2],\n",
              "       [4.8, 3. , 1.4, 0.1],\n",
              "       [4.3, 3. , 1.1, 0.1],\n",
              "       [5.8, 4. , 1.2, 0.2],\n",
              "       [5.7, 4.4, 1.5, 0.4],\n",
              "       [5.4, 3.9, 1.3, 0.4],\n",
              "       [5.1, 3.5, 1.4, 0.3],\n",
              "       [5.7, 3.8, 1.7, 0.3],\n",
              "       [5.1, 3.8, 1.5, 0.3],\n",
              "       [5.4, 3.4, 1.7, 0.2],\n",
              "       [5.1, 3.7, 1.5, 0.4],\n",
              "       [4.6, 3.6, 1. , 0.2],\n",
              "       [5.1, 3.3, 1.7, 0.5],\n",
              "       [4.8, 3.4, 1.9, 0.2],\n",
              "       [5. , 3. , 1.6, 0.2],\n",
              "       [5. , 3.4, 1.6, 0.4],\n",
              "       [5.2, 3.5, 1.5, 0.2],\n",
              "       [5.2, 3.4, 1.4, 0.2],\n",
              "       [4.7, 3.2, 1.6, 0.2],\n",
              "       [4.8, 3.1, 1.6, 0.2],\n",
              "       [5.4, 3.4, 1.5, 0.4],\n",
              "       [5.2, 4.1, 1.5, 0.1],\n",
              "       [5.5, 4.2, 1.4, 0.2],\n",
              "       [4.9, 3.1, 1.5, 0.1],\n",
              "       [5. , 3.2, 1.2, 0.2],\n",
              "       [5.5, 3.5, 1.3, 0.2],\n",
              "       [4.9, 3.1, 1.5, 0.1],\n",
              "       [4.4, 3. , 1.3, 0.2],\n",
              "       [5.1, 3.4, 1.5, 0.2],\n",
              "       [5. , 3.5, 1.3, 0.3],\n",
              "       [4.5, 2.3, 1.3, 0.3],\n",
              "       [4.4, 3.2, 1.3, 0.2],\n",
              "       [5. , 3.5, 1.6, 0.6],\n",
              "       [5.1, 3.8, 1.9, 0.4],\n",
              "       [4.8, 3. , 1.4, 0.3],\n",
              "       [5.1, 3.8, 1.6, 0.2],\n",
              "       [4.6, 3.2, 1.4, 0.2],\n",
              "       [5.3, 3.7, 1.5, 0.2],\n",
              "       [5. , 3.3, 1.4, 0.2],\n",
              "       [7. , 3.2, 4.7, 1.4],\n",
              "       [6.4, 3.2, 4.5, 1.5],\n",
              "       [6.9, 3.1, 4.9, 1.5],\n",
              "       [5.5, 2.3, 4. , 1.3],\n",
              "       [6.5, 2.8, 4.6, 1.5],\n",
              "       [5.7, 2.8, 4.5, 1.3],\n",
              "       [6.3, 3.3, 4.7, 1.6],\n",
              "       [4.9, 2.4, 3.3, 1. ],\n",
              "       [6.6, 2.9, 4.6, 1.3],\n",
              "       [5.2, 2.7, 3.9, 1.4],\n",
              "       [5. , 2. , 3.5, 1. ],\n",
              "       [5.9, 3. , 4.2, 1.5],\n",
              "       [6. , 2.2, 4. , 1. ],\n",
              "       [6.1, 2.9, 4.7, 1.4],\n",
              "       [5.6, 2.9, 3.6, 1.3],\n",
              "       [6.7, 3.1, 4.4, 1.4],\n",
              "       [5.6, 3. , 4.5, 1.5],\n",
              "       [5.8, 2.7, 4.1, 1. ],\n",
              "       [6.2, 2.2, 4.5, 1.5],\n",
              "       [5.6, 2.5, 3.9, 1.1],\n",
              "       [5.9, 3.2, 4.8, 1.8],\n",
              "       [6.1, 2.8, 4. , 1.3],\n",
              "       [6.3, 2.5, 4.9, 1.5],\n",
              "       [6.1, 2.8, 4.7, 1.2],\n",
              "       [6.4, 2.9, 4.3, 1.3],\n",
              "       [6.6, 3. , 4.4, 1.4],\n",
              "       [6.8, 2.8, 4.8, 1.4],\n",
              "       [6.7, 3. , 5. , 1.7],\n",
              "       [6. , 2.9, 4.5, 1.5],\n",
              "       [5.7, 2.6, 3.5, 1. ],\n",
              "       [5.5, 2.4, 3.8, 1.1],\n",
              "       [5.5, 2.4, 3.7, 1. ],\n",
              "       [5.8, 2.7, 3.9, 1.2],\n",
              "       [6. , 2.7, 5.1, 1.6],\n",
              "       [5.4, 3. , 4.5, 1.5],\n",
              "       [6. , 3.4, 4.5, 1.6],\n",
              "       [6.7, 3.1, 4.7, 1.5],\n",
              "       [6.3, 2.3, 4.4, 1.3],\n",
              "       [5.6, 3. , 4.1, 1.3],\n",
              "       [5.5, 2.5, 4. , 1.3],\n",
              "       [5.5, 2.6, 4.4, 1.2],\n",
              "       [6.1, 3. , 4.6, 1.4],\n",
              "       [5.8, 2.6, 4. , 1.2],\n",
              "       [5. , 2.3, 3.3, 1. ],\n",
              "       [5.6, 2.7, 4.2, 1.3],\n",
              "       [5.7, 3. , 4.2, 1.2],\n",
              "       [5.7, 2.9, 4.2, 1.3],\n",
              "       [6.2, 2.9, 4.3, 1.3],\n",
              "       [5.1, 2.5, 3. , 1.1],\n",
              "       [5.7, 2.8, 4.1, 1.3],\n",
              "       [6.3, 3.3, 6. , 2.5],\n",
              "       [5.8, 2.7, 5.1, 1.9],\n",
              "       [7.1, 3. , 5.9, 2.1],\n",
              "       [6.3, 2.9, 5.6, 1.8],\n",
              "       [6.5, 3. , 5.8, 2.2],\n",
              "       [7.6, 3. , 6.6, 2.1],\n",
              "       [4.9, 2.5, 4.5, 1.7],\n",
              "       [7.3, 2.9, 6.3, 1.8],\n",
              "       [6.7, 2.5, 5.8, 1.8],\n",
              "       [7.2, 3.6, 6.1, 2.5],\n",
              "       [6.5, 3.2, 5.1, 2. ],\n",
              "       [6.4, 2.7, 5.3, 1.9],\n",
              "       [6.8, 3. , 5.5, 2.1],\n",
              "       [5.7, 2.5, 5. , 2. ],\n",
              "       [5.8, 2.8, 5.1, 2.4],\n",
              "       [6.4, 3.2, 5.3, 2.3],\n",
              "       [6.5, 3. , 5.5, 1.8],\n",
              "       [7.7, 3.8, 6.7, 2.2],\n",
              "       [7.7, 2.6, 6.9, 2.3],\n",
              "       [6. , 2.2, 5. , 1.5],\n",
              "       [6.9, 3.2, 5.7, 2.3],\n",
              "       [5.6, 2.8, 4.9, 2. ],\n",
              "       [7.7, 2.8, 6.7, 2. ],\n",
              "       [6.3, 2.7, 4.9, 1.8],\n",
              "       [6.7, 3.3, 5.7, 2.1],\n",
              "       [7.2, 3.2, 6. , 1.8],\n",
              "       [6.2, 2.8, 4.8, 1.8],\n",
              "       [6.1, 3. , 4.9, 1.8],\n",
              "       [6.4, 2.8, 5.6, 2.1],\n",
              "       [7.2, 3. , 5.8, 1.6],\n",
              "       [7.4, 2.8, 6.1, 1.9],\n",
              "       [7.9, 3.8, 6.4, 2. ],\n",
              "       [6.4, 2.8, 5.6, 2.2],\n",
              "       [6.3, 2.8, 5.1, 1.5],\n",
              "       [6.1, 2.6, 5.6, 1.4],\n",
              "       [7.7, 3. , 6.1, 2.3],\n",
              "       [6.3, 3.4, 5.6, 2.4],\n",
              "       [6.4, 3.1, 5.5, 1.8],\n",
              "       [6. , 3. , 4.8, 1.8],\n",
              "       [6.9, 3.1, 5.4, 2.1],\n",
              "       [6.7, 3.1, 5.6, 2.4],\n",
              "       [6.9, 3.1, 5.1, 2.3],\n",
              "       [5.8, 2.7, 5.1, 1.9],\n",
              "       [6.8, 3.2, 5.9, 2.3],\n",
              "       [6.7, 3.3, 5.7, 2.5],\n",
              "       [6.7, 3. , 5.2, 2.3],\n",
              "       [6.3, 2.5, 5. , 1.9],\n",
              "       [6.5, 3. , 5.2, 2. ],\n",
              "       [6.2, 3.4, 5.4, 2.3],\n",
              "       [5.9, 3. , 5.1, 1.8]])"
            ]
          },
          "metadata": {},
          "execution_count": 14
        }
      ],
      "source": [
        "url = 'https://archive.ics.uci.edu/ml/machine-learning-databases/iris/iris.data'\n",
        "iris_2d = np.genfromtxt(url, delimiter=',', dtype='float', usecols=[0,1,2,3])\n",
        "iris_2d"
      ]
    },
    {
      "cell_type": "markdown",
      "id": "09bd05b0",
      "metadata": {
        "id": "09bd05b0"
      },
      "source": [
        "Drop rows that contain a missing value. "
      ]
    },
    {
      "cell_type": "code",
      "execution_count": null,
      "id": "ffd754b3",
      "metadata": {
        "id": "ffd754b3"
      },
      "outputs": [],
      "source": [
        ""
      ]
    },
    {
      "cell_type": "markdown",
      "id": "8cbd9fb3",
      "metadata": {
        "id": "8cbd9fb3"
      },
      "source": [
        "Find the correlation between first two columns."
      ]
    },
    {
      "cell_type": "code",
      "execution_count": null,
      "id": "e3ef5a77",
      "metadata": {
        "id": "e3ef5a77"
      },
      "outputs": [],
      "source": [
        ""
      ]
    },
    {
      "cell_type": "markdown",
      "id": "73965a4a",
      "metadata": {
        "id": "73965a4a"
      },
      "source": [
        "Find the mean,median and standard deviation of column 3."
      ]
    },
    {
      "cell_type": "code",
      "execution_count": 51,
      "id": "ab824597",
      "metadata": {
        "id": "ab824597",
        "colab": {
          "base_uri": "https://localhost:8080/"
        },
        "outputId": "1c0e99b9-e01e-47c5-db0d-0e6e8951aec1"
      },
      "outputs": [
        {
          "output_type": "stream",
          "name": "stdout",
          "text": [
            "2.35\n",
            "2.25\n",
            "1.7298843892006195\n"
          ]
        }
      ],
      "source": [
        "mean_col=iris_2d.mean(axis=1)\n",
        "median_col=np.median(iris_2d,axis=1)\n",
        "std=np.std(iris_2d,axis=1)\n",
        "print(mean_col[2])  #mean of third column\n",
        "print(median_col[2])\n",
        "print(std[2])"
      ]
    },
    {
      "cell_type": "markdown",
      "id": "14e0308e",
      "metadata": {
        "id": "14e0308e"
      },
      "source": [
        "Create a new column for volume in iris_2d, where volume is (pi x petallength x sepal_length^2)/3"
      ]
    },
    {
      "cell_type": "code",
      "execution_count": 57,
      "id": "91c944c3",
      "metadata": {
        "id": "91c944c3",
        "colab": {
          "base_uri": "https://localhost:8080/"
        },
        "outputId": "538d9194-56f2-4000-ff1c-caafab2c559b"
      },
      "outputs": [
        {
          "output_type": "execute_result",
          "data": {
            "text/plain": [
              "array([ 5.1     ,  3.5     ,  1.4     ,  0.2     ,  4.9     ,  3.      ,\n",
              "        1.4     ,  0.2     ,  4.7     ,  3.2     ,  1.3     ,  0.2     ,\n",
              "        4.6     ,  3.1     ,  1.5     ,  0.2     ,  5.      ,  3.6     ,\n",
              "        1.4     ,  0.2     ,  5.4     ,  3.9     ,  1.7     ,  0.4     ,\n",
              "        4.6     ,  3.4     ,  1.4     ,  0.3     ,  5.      ,  3.4     ,\n",
              "        1.5     ,  0.2     ,  4.4     ,  2.9     ,  1.4     ,  0.2     ,\n",
              "        4.9     ,  3.1     ,  1.5     ,  0.1     ,  5.4     ,  3.7     ,\n",
              "        1.5     ,  0.2     ,  4.8     ,  3.4     ,  1.6     ,  0.2     ,\n",
              "        4.8     ,  3.      ,  1.4     ,  0.1     ,  4.3     ,  3.      ,\n",
              "        1.1     ,  0.1     ,  5.8     ,  4.      ,  1.2     ,  0.2     ,\n",
              "        5.7     ,  4.4     ,  1.5     ,  0.4     ,  5.4     ,  3.9     ,\n",
              "        1.3     ,  0.4     ,  5.1     ,  3.5     ,  1.4     ,  0.3     ,\n",
              "        5.7     ,  3.8     ,  1.7     ,  0.3     ,  5.1     ,  3.8     ,\n",
              "        1.5     ,  0.3     ,  5.4     ,  3.4     ,  1.7     ,  0.2     ,\n",
              "        5.1     ,  3.7     ,  1.5     ,  0.4     ,  4.6     ,  3.6     ,\n",
              "        1.      ,  0.2     ,  5.1     ,  3.3     ,  1.7     ,  0.5     ,\n",
              "        4.8     ,  3.4     ,  1.9     ,  0.2     ,  5.      ,  3.      ,\n",
              "        1.6     ,  0.2     ,  5.      ,  3.4     ,  1.6     ,  0.4     ,\n",
              "        5.2     ,  3.5     ,  1.5     ,  0.2     ,  5.2     ,  3.4     ,\n",
              "        1.4     ,  0.2     ,  4.7     ,  3.2     ,  1.6     ,  0.2     ,\n",
              "        4.8     ,  3.1     ,  1.6     ,  0.2     ,  5.4     ,  3.4     ,\n",
              "        1.5     ,  0.4     ,  5.2     ,  4.1     ,  1.5     ,  0.1     ,\n",
              "        5.5     ,  4.2     ,  1.4     ,  0.2     ,  4.9     ,  3.1     ,\n",
              "        1.5     ,  0.1     ,  5.      ,  3.2     ,  1.2     ,  0.2     ,\n",
              "        5.5     ,  3.5     ,  1.3     ,  0.2     ,  4.9     ,  3.1     ,\n",
              "        1.5     ,  0.1     ,  4.4     ,  3.      ,  1.3     ,  0.2     ,\n",
              "        5.1     ,  3.4     ,  1.5     ,  0.2     ,  5.      ,  3.5     ,\n",
              "        1.3     ,  0.3     ,  4.5     ,  2.3     ,  1.3     ,  0.3     ,\n",
              "        4.4     ,  3.2     ,  1.3     ,  0.2     ,  5.      ,  3.5     ,\n",
              "        1.6     ,  0.6     ,  5.1     ,  3.8     ,  1.9     ,  0.4     ,\n",
              "        4.8     ,  3.      ,  1.4     ,  0.3     ,  5.1     ,  3.8     ,\n",
              "        1.6     ,  0.2     ,  4.6     ,  3.2     ,  1.4     ,  0.2     ,\n",
              "        5.3     ,  3.7     ,  1.5     ,  0.2     ,  5.      ,  3.3     ,\n",
              "        1.4     ,  0.2     ,  7.      ,  3.2     ,  4.7     ,  1.4     ,\n",
              "        6.4     ,  3.2     ,  4.5     ,  1.5     ,  6.9     ,  3.1     ,\n",
              "        4.9     ,  1.5     ,  5.5     ,  2.3     ,  4.      ,  1.3     ,\n",
              "        6.5     ,  2.8     ,  4.6     ,  1.5     ,  5.7     ,  2.8     ,\n",
              "        4.5     ,  1.3     ,  6.3     ,  3.3     ,  4.7     ,  1.6     ,\n",
              "        4.9     ,  2.4     ,  3.3     ,  1.      ,  6.6     ,  2.9     ,\n",
              "        4.6     ,  1.3     ,  5.2     ,  2.7     ,  3.9     ,  1.4     ,\n",
              "        5.      ,  2.      ,  3.5     ,  1.      ,  5.9     ,  3.      ,\n",
              "        4.2     ,  1.5     ,  6.      ,  2.2     ,  4.      ,  1.      ,\n",
              "        6.1     ,  2.9     ,  4.7     ,  1.4     ,  5.6     ,  2.9     ,\n",
              "        3.6     ,  1.3     ,  6.7     ,  3.1     ,  4.4     ,  1.4     ,\n",
              "        5.6     ,  3.      ,  4.5     ,  1.5     ,  5.8     ,  2.7     ,\n",
              "        4.1     ,  1.      ,  6.2     ,  2.2     ,  4.5     ,  1.5     ,\n",
              "        5.6     ,  2.5     ,  3.9     ,  1.1     ,  5.9     ,  3.2     ,\n",
              "        4.8     ,  1.8     ,  6.1     ,  2.8     ,  4.      ,  1.3     ,\n",
              "        6.3     ,  2.5     ,  4.9     ,  1.5     ,  6.1     ,  2.8     ,\n",
              "        4.7     ,  1.2     ,  6.4     ,  2.9     ,  4.3     ,  1.3     ,\n",
              "        6.6     ,  3.      ,  4.4     ,  1.4     ,  6.8     ,  2.8     ,\n",
              "        4.8     ,  1.4     ,  6.7     ,  3.      ,  5.      ,  1.7     ,\n",
              "        6.      ,  2.9     ,  4.5     ,  1.5     ,  5.7     ,  2.6     ,\n",
              "        3.5     ,  1.      ,  5.5     ,  2.4     ,  3.8     ,  1.1     ,\n",
              "        5.5     ,  2.4     ,  3.7     ,  1.      ,  5.8     ,  2.7     ,\n",
              "        3.9     ,  1.2     ,  6.      ,  2.7     ,  5.1     ,  1.6     ,\n",
              "        5.4     ,  3.      ,  4.5     ,  1.5     ,  6.      ,  3.4     ,\n",
              "        4.5     ,  1.6     ,  6.7     ,  3.1     ,  4.7     ,  1.5     ,\n",
              "        6.3     ,  2.3     ,  4.4     ,  1.3     ,  5.6     ,  3.      ,\n",
              "        4.1     ,  1.3     ,  5.5     ,  2.5     ,  4.      ,  1.3     ,\n",
              "        5.5     ,  2.6     ,  4.4     ,  1.2     ,  6.1     ,  3.      ,\n",
              "        4.6     ,  1.4     ,  5.8     ,  2.6     ,  4.      ,  1.2     ,\n",
              "        5.      ,  2.3     ,  3.3     ,  1.      ,  5.6     ,  2.7     ,\n",
              "        4.2     ,  1.3     ,  5.7     ,  3.      ,  4.2     ,  1.2     ,\n",
              "        5.7     ,  2.9     ,  4.2     ,  1.3     ,  6.2     ,  2.9     ,\n",
              "        4.3     ,  1.3     ,  5.1     ,  2.5     ,  3.      ,  1.1     ,\n",
              "        5.7     ,  2.8     ,  4.1     ,  1.3     ,  6.3     ,  3.3     ,\n",
              "        6.      ,  2.5     ,  5.8     ,  2.7     ,  5.1     ,  1.9     ,\n",
              "        7.1     ,  3.      ,  5.9     ,  2.1     ,  6.3     ,  2.9     ,\n",
              "        5.6     ,  1.8     ,  6.5     ,  3.      ,  5.8     ,  2.2     ,\n",
              "        7.6     ,  3.      ,  6.6     ,  2.1     ,  4.9     ,  2.5     ,\n",
              "        4.5     ,  1.7     ,  7.3     ,  2.9     ,  6.3     ,  1.8     ,\n",
              "        6.7     ,  2.5     ,  5.8     ,  1.8     ,  7.2     ,  3.6     ,\n",
              "        6.1     ,  2.5     ,  6.5     ,  3.2     ,  5.1     ,  2.      ,\n",
              "        6.4     ,  2.7     ,  5.3     ,  1.9     ,  6.8     ,  3.      ,\n",
              "        5.5     ,  2.1     ,  5.7     ,  2.5     ,  5.      ,  2.      ,\n",
              "        5.8     ,  2.8     ,  5.1     ,  2.4     ,  6.4     ,  3.2     ,\n",
              "        5.3     ,  2.3     ,  6.5     ,  3.      ,  5.5     ,  1.8     ,\n",
              "        7.7     ,  3.8     ,  6.7     ,  2.2     ,  7.7     ,  2.6     ,\n",
              "        6.9     ,  2.3     ,  6.      ,  2.2     ,  5.      ,  1.5     ,\n",
              "        6.9     ,  3.2     ,  5.7     ,  2.3     ,  5.6     ,  2.8     ,\n",
              "        4.9     ,  2.      ,  7.7     ,  2.8     ,  6.7     ,  2.      ,\n",
              "        6.3     ,  2.7     ,  4.9     ,  1.8     ,  6.7     ,  3.3     ,\n",
              "        5.7     ,  2.1     ,  7.2     ,  3.2     ,  6.      ,  1.8     ,\n",
              "        6.2     ,  2.8     ,  4.8     ,  1.8     ,  6.1     ,  3.      ,\n",
              "        4.9     ,  1.8     ,  6.4     ,  2.8     ,  5.6     ,  2.1     ,\n",
              "        7.2     ,  3.      ,  5.8     ,  1.6     ,  7.4     ,  2.8     ,\n",
              "        6.1     ,  1.9     ,  7.9     ,  3.8     ,  6.4     ,  2.      ,\n",
              "        6.4     ,  2.8     ,  5.6     ,  2.2     ,  6.3     ,  2.8     ,\n",
              "        5.1     ,  1.5     ,  6.1     ,  2.6     ,  5.6     ,  1.4     ,\n",
              "        7.7     ,  3.      ,  6.1     ,  2.3     ,  6.3     ,  3.4     ,\n",
              "        5.6     ,  2.4     ,  6.4     ,  3.1     ,  5.5     ,  1.8     ,\n",
              "        6.      ,  3.      ,  4.8     ,  1.8     ,  6.9     ,  3.1     ,\n",
              "        5.4     ,  2.1     ,  6.7     ,  3.1     ,  5.6     ,  2.4     ,\n",
              "        6.9     ,  3.1     ,  5.1     ,  2.3     ,  5.8     ,  2.7     ,\n",
              "        5.1     ,  1.9     ,  6.8     ,  3.2     ,  5.9     ,  2.3     ,\n",
              "        6.7     ,  3.3     ,  5.7     ,  2.5     ,  6.7     ,  3.      ,\n",
              "        5.2     ,  2.3     ,  6.3     ,  2.5     ,  5.      ,  1.9     ,\n",
              "        6.5     ,  3.      ,  5.2     ,  2.      ,  6.2     ,  3.4     ,\n",
              "        5.4     ,  2.3     ,  5.9     ,  3.      ,  5.1     ,  1.8     ,\n",
              "       17.959438])"
            ]
          },
          "metadata": {},
          "execution_count": 57
        }
      ],
      "source": [
        "new_col=[[np.pi*iris_2d[0,2]*np.power(iris_2d[0,1],2)/3]]\n",
        "iris_2D=np.append(iris_2d,new_col,axis=None)\n",
        "iris_2D\n"
      ]
    },
    {
      "cell_type": "markdown",
      "id": "b7c1758f",
      "metadata": {
        "id": "b7c1758f"
      },
      "source": [
        "Run the following loaad command and solve the following questions"
      ]
    },
    {
      "cell_type": "code",
      "execution_count": 36,
      "id": "b3fae8a7",
      "metadata": {
        "id": "b3fae8a7"
      },
      "outputs": [],
      "source": [
        "url = 'https://archive.ics.uci.edu/ml/machine-learning-databases/iris/iris.data'\n",
        "iris = np.genfromtxt(url, delimiter=',', dtype='object')\n",
        "names = ('sepallength', 'sepalwidth', 'petallength', 'petalwidth', 'species')\n"
      ]
    },
    {
      "cell_type": "markdown",
      "id": "4ee21e50",
      "metadata": {
        "id": "4ee21e50"
      },
      "source": [
        "Find the count of unique species."
      ]
    },
    {
      "cell_type": "code",
      "execution_count": 72,
      "id": "730ad758",
      "metadata": {
        "id": "730ad758",
        "colab": {
          "base_uri": "https://localhost:8080/",
          "height": 468
        },
        "outputId": "8f651264-a3e5-4efe-ba49-527c496287fb"
      },
      "outputs": [
        {
          "output_type": "error",
          "ename": "TypeError",
          "evalue": "ignored",
          "traceback": [
            "\u001b[0;31m---------------------------------------------------------------------------\u001b[0m",
            "\u001b[0;31mTypeError\u001b[0m                                 Traceback (most recent call last)",
            "\u001b[0;32m/usr/local/lib/python3.7/dist-packages/numpy/lib/arraysetops.py\u001b[0m in \u001b[0;36munique\u001b[0;34m(ar, return_index, return_inverse, return_counts, axis)\u001b[0m\n\u001b[1;32m    293\u001b[0m         \u001b[0;32mif\u001b[0m \u001b[0mar\u001b[0m\u001b[0;34m.\u001b[0m\u001b[0mshape\u001b[0m\u001b[0;34m[\u001b[0m\u001b[0;36m1\u001b[0m\u001b[0;34m]\u001b[0m \u001b[0;34m>\u001b[0m \u001b[0;36m0\u001b[0m\u001b[0;34m:\u001b[0m\u001b[0;34m\u001b[0m\u001b[0;34m\u001b[0m\u001b[0m\n\u001b[0;32m--> 294\u001b[0;31m             \u001b[0mconsolidated\u001b[0m \u001b[0;34m=\u001b[0m \u001b[0mar\u001b[0m\u001b[0;34m.\u001b[0m\u001b[0mview\u001b[0m\u001b[0;34m(\u001b[0m\u001b[0mdtype\u001b[0m\u001b[0;34m)\u001b[0m\u001b[0;34m\u001b[0m\u001b[0;34m\u001b[0m\u001b[0m\n\u001b[0m\u001b[1;32m    295\u001b[0m         \u001b[0;32melse\u001b[0m\u001b[0;34m:\u001b[0m\u001b[0;34m\u001b[0m\u001b[0;34m\u001b[0m\u001b[0m\n",
            "\u001b[0;32m/usr/local/lib/python3.7/dist-packages/numpy/core/_internal.py\u001b[0m in \u001b[0;36m_view_is_safe\u001b[0;34m(oldtype, newtype)\u001b[0m\n\u001b[1;32m    493\u001b[0m     \u001b[0;32mif\u001b[0m \u001b[0mnewtype\u001b[0m\u001b[0;34m.\u001b[0m\u001b[0mhasobject\u001b[0m \u001b[0;32mor\u001b[0m \u001b[0moldtype\u001b[0m\u001b[0;34m.\u001b[0m\u001b[0mhasobject\u001b[0m\u001b[0;34m:\u001b[0m\u001b[0;34m\u001b[0m\u001b[0;34m\u001b[0m\u001b[0m\n\u001b[0;32m--> 494\u001b[0;31m         \u001b[0;32mraise\u001b[0m \u001b[0mTypeError\u001b[0m\u001b[0;34m(\u001b[0m\u001b[0;34m\"Cannot change data-type for object array.\"\u001b[0m\u001b[0;34m)\u001b[0m\u001b[0;34m\u001b[0m\u001b[0;34m\u001b[0m\u001b[0m\n\u001b[0m\u001b[1;32m    495\u001b[0m     \u001b[0;32mreturn\u001b[0m\u001b[0;34m\u001b[0m\u001b[0;34m\u001b[0m\u001b[0m\n",
            "\u001b[0;31mTypeError\u001b[0m: Cannot change data-type for object array.",
            "\nThe above exception was the direct cause of the following exception:\n",
            "\u001b[0;31mTypeError\u001b[0m                                 Traceback (most recent call last)",
            "\u001b[0;32m<ipython-input-72-3751eab31964>\u001b[0m in \u001b[0;36m<module>\u001b[0;34m()\u001b[0m\n\u001b[0;32m----> 1\u001b[0;31m \u001b[0mnp\u001b[0m\u001b[0;34m.\u001b[0m\u001b[0munique\u001b[0m\u001b[0;34m(\u001b[0m\u001b[0miris\u001b[0m\u001b[0;34m,\u001b[0m \u001b[0mreturn_counts\u001b[0m\u001b[0;34m=\u001b[0m\u001b[0;32mTrue\u001b[0m\u001b[0;34m,\u001b[0m \u001b[0maxis\u001b[0m\u001b[0;34m=\u001b[0m\u001b[0;36m1\u001b[0m\u001b[0;34m)\u001b[0m\u001b[0;34m\u001b[0m\u001b[0;34m\u001b[0m\u001b[0m\n\u001b[0m",
            "\u001b[0;32m<__array_function__ internals>\u001b[0m in \u001b[0;36munique\u001b[0;34m(*args, **kwargs)\u001b[0m\n",
            "\u001b[0;32m/usr/local/lib/python3.7/dist-packages/numpy/lib/arraysetops.py\u001b[0m in \u001b[0;36munique\u001b[0;34m(ar, return_index, return_inverse, return_counts, axis)\u001b[0m\n\u001b[1;32m    303\u001b[0m         \u001b[0;31m# There's no good way to do this for object arrays, etc...\u001b[0m\u001b[0;34m\u001b[0m\u001b[0;34m\u001b[0m\u001b[0;34m\u001b[0m\u001b[0m\n\u001b[1;32m    304\u001b[0m         \u001b[0mmsg\u001b[0m \u001b[0;34m=\u001b[0m \u001b[0;34m'The axis argument to unique is not supported for dtype {dt}'\u001b[0m\u001b[0;34m\u001b[0m\u001b[0;34m\u001b[0m\u001b[0m\n\u001b[0;32m--> 305\u001b[0;31m         \u001b[0;32mraise\u001b[0m \u001b[0mTypeError\u001b[0m\u001b[0;34m(\u001b[0m\u001b[0mmsg\u001b[0m\u001b[0;34m.\u001b[0m\u001b[0mformat\u001b[0m\u001b[0;34m(\u001b[0m\u001b[0mdt\u001b[0m\u001b[0;34m=\u001b[0m\u001b[0mar\u001b[0m\u001b[0;34m.\u001b[0m\u001b[0mdtype\u001b[0m\u001b[0;34m)\u001b[0m\u001b[0;34m)\u001b[0m \u001b[0;32mfrom\u001b[0m \u001b[0me\u001b[0m\u001b[0;34m\u001b[0m\u001b[0;34m\u001b[0m\u001b[0m\n\u001b[0m\u001b[1;32m    306\u001b[0m \u001b[0;34m\u001b[0m\u001b[0m\n\u001b[1;32m    307\u001b[0m     \u001b[0;32mdef\u001b[0m \u001b[0mreshape_uniq\u001b[0m\u001b[0;34m(\u001b[0m\u001b[0muniq\u001b[0m\u001b[0;34m)\u001b[0m\u001b[0;34m:\u001b[0m\u001b[0;34m\u001b[0m\u001b[0;34m\u001b[0m\u001b[0m\n",
            "\u001b[0;31mTypeError\u001b[0m: The axis argument to unique is not supported for dtype object"
          ]
        }
      ],
      "source": [
        "np.unique(iris, return_counts=True, axis=1)"
      ]
    },
    {
      "cell_type": "markdown",
      "id": "6d054b10",
      "metadata": {
        "id": "6d054b10"
      },
      "source": [
        "Bin the petal length (3rd) column of iris_2d to form a text array, such that if petal length is:\n",
        "Less than 3 –> ‘small’\n",
        "3-5 –> ‘medium’\n",
        "‘>=5 –> ‘large’"
      ]
    },
    {
      "cell_type": "code",
      "execution_count": null,
      "id": "5be1b28a",
      "metadata": {
        "scrolled": false,
        "id": "5be1b28a"
      },
      "outputs": [],
      "source": [
        ""
      ]
    },
    {
      "cell_type": "markdown",
      "id": "87b2ddd8",
      "metadata": {
        "id": "87b2ddd8"
      },
      "source": [
        "Find the most frequent value of petal length (3rd column) in iris dataset"
      ]
    },
    {
      "cell_type": "code",
      "execution_count": 71,
      "id": "bb79857d",
      "metadata": {
        "id": "bb79857d",
        "colab": {
          "base_uri": "https://localhost:8080/"
        },
        "outputId": "0661fca9-8910-4b6d-8cb8-86c5d26771bf"
      },
      "outputs": [
        {
          "output_type": "execute_result",
          "data": {
            "text/plain": [
              "b'1.5'"
            ]
          },
          "metadata": {},
          "execution_count": 71
        }
      ],
      "source": [
        "from collections import Counter\n",
        "  \n",
        "def mostCommon(iris):\n",
        "          \n",
        "    return [Counter(col).most_common(1)[0][0] for col in zip(*iris)]\n",
        "array=np.array(mostCommon(iris))\n",
        "array[2] # most frequent value of 3rd column\n"
      ]
    },
    {
      "cell_type": "code",
      "source": [
        ""
      ],
      "metadata": {
        "id": "Xycb6jy66B7n"
      },
      "id": "Xycb6jy66B7n",
      "execution_count": null,
      "outputs": []
    }
  ],
  "metadata": {
    "kernelspec": {
      "display_name": "Python 3 (ipykernel)",
      "language": "python",
      "name": "python3"
    },
    "language_info": {
      "codemirror_mode": {
        "name": "ipython",
        "version": 3
      },
      "file_extension": ".py",
      "mimetype": "text/x-python",
      "name": "python",
      "nbconvert_exporter": "python",
      "pygments_lexer": "ipython3",
      "version": "3.8.10"
    },
    "colab": {
      "name": "Copy of ML_Assignment_1_NumPy.ipynb",
      "provenance": [],
      "collapsed_sections": []
    }
  },
  "nbformat": 4,
  "nbformat_minor": 5
}